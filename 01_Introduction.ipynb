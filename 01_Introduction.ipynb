{
  "nbformat": 4,
  "nbformat_minor": 0,
  "metadata": {
    "colab": {
      "provenance": []
    },
    "kernelspec": {
      "name": "python3",
      "display_name": "Python 3"
    },
    "language_info": {
      "name": "python"
    }
  },
  "cells": [
    {
      "cell_type": "markdown",
      "source": [
        "# Google Colab and Python Tutorials\n",
        "\n",
        "**Author**: M. Chiovaro (@mchiovaro)\n",
        "\n",
        "**Last updated**: 2024-09-05\n",
        "\n",
        "Welcome to this introductory tutorial on Google Colab and Python! Both of these are going to be fundamental to the course. To set us all off on solid ground, let's review the basics and try some exercises."
      ],
      "metadata": {
        "id": "y3VAwEMKs331"
      }
    },
    {
      "cell_type": "markdown",
      "source": [
        "## **Google Colab Tutorial**"
      ],
      "metadata": {
        "id": "w1Yd9bWz3H5x"
      }
    },
    {
      "cell_type": "markdown",
      "source": [
        "### 1. What is Google Colab?\n",
        "\n",
        "Google Colab is a cloud-based Jupyter Notebook environment. A Jupyter Notebook is an interactive web application that allows you to create and share documents containing code, equations, visualizations, and text. It's widely used for data analysis, scientific research, and introductory machine learning exercises.\n",
        "\n",
        "It provides free access to computational resources, including GPUs, making it particularly useful for data science and machine learning projects. Let's get started with the basics."
      ],
      "metadata": {
        "id": "2zZIhUcM3K7E"
      }
    },
    {
      "cell_type": "markdown",
      "source": [
        "### 2. Creating a New Notebook\n",
        "\n",
        "1. **Open Google Colab:** Go to [Google Colab](https://colab.research.google.com/).\n",
        "2. **Create a New Notebook:** Click on `File` > `New notebook`."
      ],
      "metadata": {
        "id": "y2ubq2WS3MtV"
      }
    },
    {
      "cell_type": "markdown",
      "source": [
        "### 3. Interface Overview\n",
        "\n",
        "- **Code Cells:** These are blocks where you can write and execute Python code.\n",
        "- **Text Cells:** These are blocks for writing formatted text using Markdown.\n",
        "- **Sidebar:** Provides access to files, table of contents, and other tools."
      ],
      "metadata": {
        "id": "9QfRlslH3OYG"
      }
    },
    {
      "cell_type": "markdown",
      "source": [
        "### 4. Running Code\n",
        "\n",
        "To execute Python code:\n",
        "\n",
        "1. **Write Your Code:** Type your Python code into a code cell.\n",
        "2. **Run the Cell:** Click the play button to the left of the cell or press `Shift + Enter`."
      ],
      "metadata": {
        "id": "RLKDUEnl3P98"
      }
    },
    {
      "cell_type": "markdown",
      "source": [
        "\n",
        "### 5. Adding and Editing Cells\n",
        "* **Add a Code Cell**: Click on + Code in the toolbar.\n",
        "* **Add a Text Cell**: Click on + Text in the toolbar.\n",
        "* **Delete a Cell**: Click on the cell and then click the trash can icon in the toolbar."
      ],
      "metadata": {
        "id": "QAPdGUy9tnV1"
      }
    },
    {
      "cell_type": "markdown",
      "source": [
        "### <font color='red'>**TRY IT**</font> &#x1f9e0;: Create a new code cell below this text cell and running the following print statement:\n",
        "\n",
        "```python\n",
        "print(\"Hello, Google Colab!\")\n",
        "```"
      ],
      "metadata": {
        "id": "YXX2lLwl8BgI"
      }
    },
    {
      "cell_type": "markdown",
      "source": [
        "### 6. Using Markdown for Text Cells\n",
        "Markdown allows you to format text. Here are a few basic Markdown elements:\n",
        "```markdown\n",
        "Headings: For different heading levels use #, ##, ###\n",
        "Bold Text: **Bold**\n",
        "Italic Text: *Italic*\n",
        "Lists:\n",
        "  Unordered: *, -, or +\n",
        "  Ordered: 1., 2., 3.\n",
        "Links: [Link Text](http://example.com)\n",
        "```"
      ],
      "metadata": {
        "id": "JbVqcqcZ3ekL"
      }
    },
    {
      "cell_type": "markdown",
      "source": [
        "### 7. Importing Libraries\n",
        "You can use libraries by importing them as you would in any Python script. We'll go over libraries and packages a bit more in the next section. But for example:\n",
        "\n",
        "```python\n",
        "import numpy as np\n",
        "import pandas as pd\n",
        "import matplotlib.pyplot as plt\n",
        "```"
      ],
      "metadata": {
        "id": "WKDjrZ-R3grk"
      }
    },
    {
      "cell_type": "markdown",
      "source": [
        "### 8. Uploading and Accessing Files\n",
        "You can upload files from your local machine and access them within your notebook.\n",
        "\n",
        "**Upload a File:**\n",
        "1. Click on the file icon on the left sidebar.\n",
        "2. Click on the Upload button and select your file.\n",
        "3. Access the File:\n",
        "\n",
        "  ```python\n",
        "  from google.colab import files\n",
        "  uploaded = files.upload()\n",
        "\n",
        "  import pandas as pd\n",
        "  data = pd.read_csv('filename.csv')\n",
        "  ```\n",
        "\n",
        "Be sure to replace `filename.csv` with the correct filename."
      ],
      "metadata": {
        "id": "8LxXx10vhQLh"
      }
    },
    {
      "cell_type": "markdown",
      "source": [
        "### 9. Mounting Google Drive\n",
        "Google Colab allows you to access files stored in your Google Drive.\n",
        "\n",
        "**To mount Google Drive:**\n",
        "\n",
        "```python\n",
        "from google.colab import drive\n",
        "drive.mount('/content/drive')\n",
        "```\n",
        "\n",
        "**Authenticate**: A prompt will appear asking you to authorize Google Colab to access your Google Drive. Follow the link, sign in, and copy the authorization code.\n",
        "\n",
        "**Access Files**: Once mounted, you can access your Google Drive files through the `/content/drive/My Drive/` directory.\n",
        "\n",
        "Example of accessing a `.csv` file:\n",
        "\n",
        "```python\n",
        "import pandas as pd\n",
        "\n",
        "# Replace 'filename.csv' with your file's path in Google Drive\n",
        "file_path = '/content/drive/My Drive/filename.csv'\n",
        "data = pd.read_csv(file_path)\n",
        "print(data.head())\n",
        "```"
      ],
      "metadata": {
        "id": "xgRBmXsv3s3C"
      }
    },
    {
      "cell_type": "markdown",
      "source": [
        "### 10. Saving Your Work\n",
        "Google Colab *usually* automatically saves your work to your Google Drive. Always be sure to check before closing out of your notebook.\n",
        "\n",
        "You can also download your notebook by clicking on File > Download > Download .ipynb."
      ],
      "metadata": {
        "id": "yO2DeX153j6s"
      }
    },
    {
      "cell_type": "markdown",
      "source": [
        "### 11. Using GPUs and TPUs\n",
        "Google Colab provides free access to GPUs and TPUs. There are daily limits, so be sure to use them sparingly. To enable them:\n",
        "\n",
        "**Change Runtime Type:**\n",
        "1. Click on Runtime > Change runtime type.\n",
        "2. Select GPU or TPU from the Hardware accelerator dropdown."
      ],
      "metadata": {
        "id": "Y1nGN2qQ3l72"
      }
    },
    {
      "cell_type": "markdown",
      "source": [
        "## **Python Refresher**\n",
        "\n",
        "In this part of the tutorial, we'll cover the fundamental concepts of Python including packages, libraries, functions, data types, and basic operations. This guide is perfect for beginners who are new to coding and servers as a good refresher for others."
      ],
      "metadata": {
        "id": "Qx52GVnPxEXX"
      }
    },
    {
      "cell_type": "markdown",
      "source": [
        "### 1. What is Python?\n",
        "\n",
        "Python is a high-level, interpreted programming language known for its readability and ease of use. It's widely used in web development, data science, artificial intelligence, and more."
      ],
      "metadata": {
        "id": "cmBvyVrm3xoh"
      }
    },
    {
      "cell_type": "markdown",
      "source": [
        "### 2. Packages and Libraries\n",
        "\n",
        "**Packages** are a way of organizing Python code. A package is a directory that contains multiple Python files and other directories. It helps manage and structure your code efficiently.\n",
        "\n",
        "**Libraries** are collections of packages or modules that provide reusable functions and classes. Common Python libraries include `NumPy` for numerical operations, `Pandas` for data manipulation, and `Matplotlib` for plotting.\n",
        "\n",
        "Let's start by importing some libraries. Run the following code in a code cell:\n",
        "\n",
        "```python\n",
        "import numpy as np  # Import NumPy with the alias 'np'\n",
        "import pandas as pd  # Import Pandas with the alias 'pd'\n",
        "```"
      ],
      "metadata": {
        "id": "skGE1dsB3zDr"
      }
    },
    {
      "cell_type": "markdown",
      "source": [
        "### 3. Variables\n",
        "Variables are used to store data that can be referenced and manipulated. They are created by assigning a value to a name:\n",
        "\n",
        "```python\n",
        "message = \"Welcome to Python!\"\n",
        "count = 10\n",
        "```"
      ],
      "metadata": {
        "id": "FVYXr8Wz0idK"
      }
    },
    {
      "cell_type": "markdown",
      "source": [
        "### 4. Data Types\n",
        "Python has various data types that you’ll use to store and manipulate data. Here are some basic data types:\n",
        "\n",
        "#### Integers\n",
        "Represent whole numbers:\n",
        "\n",
        "```python\n",
        "age = 25\n",
        "```\n",
        "\n",
        "#### Floating-Point Numbers\n",
        "Represent decimal numbers:\n",
        "\n",
        "```python\n",
        "temperature = 36.6\n",
        "```\n",
        "\n",
        "#### Strings\n",
        "Represent text:\n",
        "\n",
        "```python\n",
        "name = \"John Doe\"\n",
        "```\n",
        "\n",
        "#### Booleans\n",
        "Represent truth values:\n",
        "\n",
        "```python\n",
        "is_student = True\n",
        "is_employed = False\n",
        "```\n",
        "\n",
        "#### <font color='red'>**TRY IT**</font> &#x1f9e0;: Create a new code cell, create one of each of the above data types and print those variables. Run the code to see the output."
      ],
      "metadata": {
        "id": "zpg-M8-8321n"
      }
    },
    {
      "cell_type": "markdown",
      "source": [
        "### 5. Functions\n",
        "Functions are reusable blocks of code that perform a specific task. They help in breaking down complex problems into smaller, manageable parts.\n",
        "\n",
        "#### Defining a Function\n",
        "A function always starts with `def` followed by the function name and a set of parentheses. Within the parentheses are anything that the function takes in. Here’s how you define a simple function in Python:\n",
        "\n",
        "```python\n",
        "def printname(name):\n",
        "    \"\"\"This function prints a greeting message.\"\"\"\n",
        "    print(f\"{name}\")\n",
        "\n",
        "printname(\"Bob\")\n",
        "```\n",
        "\n",
        "#### <font color='red'>**TRY IT**</font> &#x1f9e0;: Define a function to greet someone and call it with your name."
      ],
      "metadata": {
        "id": "V15V01hw35dm"
      }
    },
    {
      "cell_type": "markdown",
      "source": [
        "### 6. Operations and Data Manipulation"
      ],
      "metadata": {
        "id": "0ISrCc8y38Oc"
      }
    },
    {
      "cell_type": "markdown",
      "source": [
        "#### Arithmetic Operations\n",
        "Basic arithmetic operations include addition, subtraction, multiplication, and division:\n",
        "\n",
        "```python\n",
        "a = 10\n",
        "b = 5\n",
        "\n",
        "summation = a + b  # Addition\n",
        "difference = a - b # Subtraction\n",
        "product = a * b    # Multiplication\n",
        "quotient = a / b   # Division\n",
        "\n",
        "print(summation, difference, product, quotient)\n",
        "```\n",
        "\n",
        "#### <font color='red'>**TRY IT**</font> &#x1f9e0;: Use different numbers to perform arithmetic operations. Save the results as variables and print them."
      ],
      "metadata": {
        "id": "pOalnbh56Rsk"
      }
    },
    {
      "cell_type": "markdown",
      "source": [
        "#### String Operations\n",
        "You can perform operations on strings like concatenation and repetition:\n",
        "\n",
        "```python\n",
        "greeting = \"Hello\"\n",
        "name = \"Alice\"\n",
        "\n",
        "message = greeting + \" \" + name  # Concatenation\n",
        "repeat_message = greeting * 3    # Repetition\n",
        "\n",
        "print(message)\n",
        "print(repeat_message)\n",
        "```\n",
        "\n",
        "#### <font color='red'>**TRY IT**</font> &#x1f9e0;: Create and print messages using string operations.\n"
      ],
      "metadata": {
        "id": "is0Xw0ks6UWq"
      }
    },
    {
      "cell_type": "markdown",
      "source": [
        "#### Lists\n",
        "Lists are ordered collections of items that can be changed:\n",
        "\n",
        "```python\n",
        "fruits = [\"apple\", \"banana\", \"cherry\"]\n",
        "fruits.append(\"date\")  # Add an item to the list\n",
        "print(fruits[1])       # Access the second item\n",
        "```\n",
        "\n",
        "#### <font color='red'>**TRY IT**</font> &#x1f9e0;: Create a list, add an item, and access an element."
      ],
      "metadata": {
        "id": "FICTjwUP6YQV"
      }
    },
    {
      "cell_type": "markdown",
      "source": [
        "#### Dictionaries\n",
        "Dictionaries store data in key-value pairs:\n",
        "\n",
        "```python\n",
        "student = {\"name\": \"Alice\", \"age\": 20, \"major\": \"Computer Science\"}\n",
        "print(student[\"name\"])  # Access the value associated with the key 'name'\n",
        "```\n",
        "\n",
        "#### <font color='red'>**TRY IT**</font> &#x1f9e0;: Create a dictionary of information about one of your courses this year and print a value from it."
      ],
      "metadata": {
        "id": "kkqAbj_s6ZxN"
      }
    },
    {
      "cell_type": "markdown",
      "source": [
        "#### Loops and Conditional Statements\n",
        "Loops and conditionals are used to perform repetitive tasks and make decisions based on conditions.\n",
        "\n",
        "For Loop\n",
        "```python\n",
        "for i in range(5):\n",
        "    print(i)\n",
        "```\n",
        "\n",
        "#### <font color='red'>**TRY IT**</font> &#x1f9e0;: Use a For Loop to print numbers up to and including 10 using a loop."
      ],
      "metadata": {
        "id": "yhWCa6z36c49"
      }
    },
    {
      "cell_type": "markdown",
      "source": [
        "#### If Statement\n",
        "\n",
        "```python\n",
        "age = 18\n",
        "if age >= 18:\n",
        "    print(\"You are an adult.\")\n",
        "else:\n",
        "    print(\"You are a minor.\")\n",
        "```\n",
        "\n",
        "#### <font color='red'>**TRY IT**</font> &#x1f9e0;: Use an If Statement to check if a number is positive or negative."
      ],
      "metadata": {
        "id": "Xq9DkS0z6eos"
      }
    },
    {
      "cell_type": "markdown",
      "source": [
        "## Conclusion\n",
        "\n",
        "You've completed our first coding tutorial! Feel free to use this lesson as a reference as we move forward with the course. If you want additional Python practice, refer to the tutorials I provided via email over the summer or complete the Python tutorial in the beginning of our course textbook."
      ],
      "metadata": {
        "id": "4fSUIGW_2ian"
      }
    }
  ]
}